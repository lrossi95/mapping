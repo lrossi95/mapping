{
 "cells": [
  {
   "cell_type": "code",
   "execution_count": null,
   "metadata": {
    "vscode": {
     "languageId": "plaintext"
    }
   },
   "outputs": [],
   "source": [
    "import requests\n",
    "from tqdm.notebook import tqdm\n",
    "\n",
    "profiles = ['cycling-regular','foot-walking','driving-car']\n",
    "\n",
    "range_type = 'time'\n",
    "range = [300]  # 5 minutes\n",
    "\n",
    "\n",
    "\n",
    "def get_isochrones(api_key, locations, profile, range_type=range_type, range=range):\n",
    "    \"\"\"\n",
    "    Get isochrones for different profiles using OpenRouteService API.\n",
    "\n",
    "    Parameters:\n",
    "    - api_key (str): Your OpenRouteService API key.\n",
    "    - locations (list): List of [longitude, latitude] pairs.\n",
    "    - profile (str): The mode of transport (e.g., 'driving-car', 'cycling-regular', 'foot-walking').\n",
    "    - range_type (str): The type of range ('time' or 'distance').\n",
    "    - range (list): List of ranges in seconds (for 'time') or meters (for 'distance').\n",
    "\n",
    "    Returns:\n",
    "    - dict: The response from the OpenRouteService API.\n",
    "    \"\"\"\n",
    "    url = 'https://api.openrouteservice.org/v2/isochrones/' + profile\n",
    "    headers = {\n",
    "        'Authorization': api_key,\n",
    "        'Content-Type': 'application/json'\n",
    "    }\n",
    "    body = {\n",
    "        'locations': locations,\n",
    "        'range': range,\n",
    "        'range_type': range_type\n",
    "    }\n",
    "    response = requests.post(url, json=body, headers=headers)\n",
    "    return response.json()\n",
    "\n",
    "# Example usage:\n",
    "api_key = '5b3ce3597851110001cf6248e1c21942e51e45a9ba5e6081a595bc3d'\n",
    "\n",
    "for carreaux_id in tqdm(gdf_bpe_23.loc[gdf_bpe_23['LIBCOM']=='BASSE-POINTE']['Idcar_200m'].unique()[4:10]):\n",
    "# carreaux_id = 'CRS5490RES200mN1615600E708200'\n",
    "\n",
    "    test_car = gdf.loc[gdf['Idcar_200m']==carreaux_id]\n",
    "    try:\n",
    "        commune_id = test_car['lcog_geo'].item() # it is a string\n",
    "\n",
    "        for profile in profiles:\n",
    "            locations = [[test_car['centroid'].x.item(), test_car['centroid'].y.item()]]\n",
    "            # locations = [[-60.87711, 14.39711]]  # Example location\n",
    "            isochrones = get_isochrones(api_key, locations,profile=profile)\n",
    "            isochrones['carreaux_id'] = carreaux_id\n",
    "            isochrones['commune_id'] = commune_id\n",
    "            isochrones['profile'] = profile\n",
    "            dump_jsonl(isochrones, f'isochrones/{carreaux_id}_{profile}_{range_type}_{range}.jsonl')\n",
    "    except:\n",
    "        pass"
   ]
  }
 ],
 "metadata": {
  "language_info": {
   "name": "python"
  }
 },
 "nbformat": 4,
 "nbformat_minor": 2
}
